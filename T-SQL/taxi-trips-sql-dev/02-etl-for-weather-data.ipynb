{
 "cells": [
  {
   "cell_type": "code",
   "execution_count": 1,
   "metadata": {},
   "outputs": [],
   "source": [
    "import pandas as pd\n",
    "import requests\n",
    "import os\n",
    "from dateutil.relativedelta import relativedelta\n",
    "from datetime import datetime as dt\n",
    "import json\n",
    "\n",
    "pd.set_option('display.max_columns',30)"
   ]
  },
  {
   "cell_type": "code",
   "execution_count": 24,
   "metadata": {},
   "outputs": [],
   "source": [
    "def transform_weather_data(weather_data: json) -> pd.DataFrame:\n",
    "    \"\"\"Transform weather data from JSON format to a pandas DataFrame.\n",
    "    \n",
    "    Parameters:\n",
    "    weather_data (json): JSON data containing weather information.\n",
    "    \n",
    "    Returns:\n",
    "    pd.DataFrame: Transformed weather data in a DataFrame format.\n",
    "    \"\"\"\n",
    "    \n",
    "    weather_filtered = {\n",
    "        'datetime': weather_data['hourly']['time'],\n",
    "        'temperature' : weather_data['hourly']['temperature_2m'],\n",
    "        'wind' : weather_data['hourly']['wind_speed_10m'],\n",
    "        'precipitation' : weather_data['hourly']['precipitation'],\n",
    "        'rain' : weather_data['hourly']['rain']\n",
    "    }\n",
    "    weather_df = pd.DataFrame(weather_filtered)\n",
    "    weather_df['datetime'] = pd.to_datetime(weather_df['datetime'])\n",
    "    return weather_df"
   ]
  },
  {
   "cell_type": "code",
   "execution_count": 25,
   "metadata": {},
   "outputs": [],
   "source": [
    "url = f\"https://archive-api.open-meteo.com/v1/era5\"\n",
    "startDate = (dt.now() - relativedelta(months=2)).strftime('%Y-%m-%d')\n",
    "\n",
    "params = {\n",
    "    \"latitude\" : 41.85,\n",
    "    \"longitude\" : -87.65,\n",
    "    \"start_date\" : startDate,\n",
    "    \"end_date\" : startDate,\n",
    "    \"hourly\" : \"temperature_2m,wind_speed_10m,precipitation,rain\"\n",
    "}\n",
    "\n",
    "\n",
    "response = requests.get(url, params=params)\n",
    "weather_data = response.json()\n",
    "weather_data_df = transform_weather_data(weather_data=weather_data)"
   ]
  },
  {
   "cell_type": "code",
   "execution_count": 26,
   "metadata": {},
   "outputs": [
    {
     "data": {
      "text/html": [
       "<div>\n",
       "<style scoped>\n",
       "    .dataframe tbody tr th:only-of-type {\n",
       "        vertical-align: middle;\n",
       "    }\n",
       "\n",
       "    .dataframe tbody tr th {\n",
       "        vertical-align: top;\n",
       "    }\n",
       "\n",
       "    .dataframe thead th {\n",
       "        text-align: right;\n",
       "    }\n",
       "</style>\n",
       "<table border=\"1\" class=\"dataframe\">\n",
       "  <thead>\n",
       "    <tr style=\"text-align: right;\">\n",
       "      <th></th>\n",
       "      <th>datetime</th>\n",
       "      <th>temperature</th>\n",
       "      <th>wind</th>\n",
       "      <th>precipitation</th>\n",
       "      <th>rain</th>\n",
       "    </tr>\n",
       "  </thead>\n",
       "  <tbody>\n",
       "    <tr>\n",
       "      <th>0</th>\n",
       "      <td>2024-04-09 00:00:00</td>\n",
       "      <td>17.5</td>\n",
       "      <td>17.9</td>\n",
       "      <td>0.0</td>\n",
       "      <td>0.0</td>\n",
       "    </tr>\n",
       "    <tr>\n",
       "      <th>1</th>\n",
       "      <td>2024-04-09 01:00:00</td>\n",
       "      <td>15.0</td>\n",
       "      <td>17.9</td>\n",
       "      <td>0.0</td>\n",
       "      <td>0.0</td>\n",
       "    </tr>\n",
       "    <tr>\n",
       "      <th>2</th>\n",
       "      <td>2024-04-09 02:00:00</td>\n",
       "      <td>14.1</td>\n",
       "      <td>20.2</td>\n",
       "      <td>0.0</td>\n",
       "      <td>0.0</td>\n",
       "    </tr>\n",
       "    <tr>\n",
       "      <th>3</th>\n",
       "      <td>2024-04-09 03:00:00</td>\n",
       "      <td>13.4</td>\n",
       "      <td>20.0</td>\n",
       "      <td>0.0</td>\n",
       "      <td>0.0</td>\n",
       "    </tr>\n",
       "    <tr>\n",
       "      <th>4</th>\n",
       "      <td>2024-04-09 04:00:00</td>\n",
       "      <td>12.4</td>\n",
       "      <td>18.5</td>\n",
       "      <td>0.0</td>\n",
       "      <td>0.0</td>\n",
       "    </tr>\n",
       "  </tbody>\n",
       "</table>\n",
       "</div>"
      ],
      "text/plain": [
       "             datetime  temperature  wind  precipitation  rain\n",
       "0 2024-04-09 00:00:00         17.5  17.9            0.0   0.0\n",
       "1 2024-04-09 01:00:00         15.0  17.9            0.0   0.0\n",
       "2 2024-04-09 02:00:00         14.1  20.2            0.0   0.0\n",
       "3 2024-04-09 03:00:00         13.4  20.0            0.0   0.0\n",
       "4 2024-04-09 04:00:00         12.4  18.5            0.0   0.0"
      ]
     },
     "execution_count": 26,
     "metadata": {},
     "output_type": "execute_result"
    }
   ],
   "source": [
    "weather_data_df.head(5)"
   ]
  },
  {
   "cell_type": "code",
   "execution_count": 29,
   "metadata": {},
   "outputs": [],
   "source": [
    "weather_data_df.to_csv(f'weather {startDate}.csv', index=False, sep = ';', encoding = 'utf-16')"
   ]
  }
 ],
 "metadata": {
  "kernelspec": {
   "display_name": "base",
   "language": "python",
   "name": "python3"
  },
  "language_info": {
   "codemirror_mode": {
    "name": "ipython",
    "version": 3
   },
   "file_extension": ".py",
   "mimetype": "text/x-python",
   "name": "python",
   "nbconvert_exporter": "python",
   "pygments_lexer": "ipython3",
   "version": "3.11.7"
  }
 },
 "nbformat": 4,
 "nbformat_minor": 2
}
