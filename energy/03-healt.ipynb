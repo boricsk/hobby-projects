{
 "cells": [
  {
   "cell_type": "code",
   "execution_count": 1,
   "metadata": {},
   "outputs": [],
   "source": [
    "import json\n",
    "import os\n",
    "import pandas as pd\n",
    "import requests\n",
    "from datetime import datetime as dt\n",
    "from dateutil.relativedelta import relativedelta\n",
    "from dotenv import load_dotenv\n",
    "pd.set_option('display.max_columns', 50)\n",
    "load_dotenv()\n",
    "\n",
    "api_key = os.getenv('ELECTRICITYMAPS_API')\n",
    "endpoint = 'https://api.electricitymap.org/health'\n",
    "header = {'auth-token': api_key}\n",
    "\n",
    "response = requests.get(endpoint, header)\n",
    "health_data = response.json()"
   ]
  },
  {
   "cell_type": "code",
   "execution_count": 9,
   "metadata": {},
   "outputs": [
    {
     "name": "stdout",
     "output_type": "stream",
     "text": [
      "API is up.\n"
     ]
    }
   ],
   "source": [
    "print('API is up.' if (health_data['monitors']['state'] == 'ok') and (health_data['status'] == 'ok') else f'API is down. State : {health_data['monitors']['state']} Status : {health_data['status']}')"
   ]
  },
  {
   "cell_type": "code",
   "execution_count": 7,
   "metadata": {},
   "outputs": [
    {
     "data": {
      "text/plain": [
       "'ok'"
      ]
     },
     "execution_count": 7,
     "metadata": {},
     "output_type": "execute_result"
    }
   ],
   "source": []
  }
 ],
 "metadata": {
  "kernelspec": {
   "display_name": "Python 3",
   "language": "python",
   "name": "python3"
  },
  "language_info": {
   "codemirror_mode": {
    "name": "ipython",
    "version": 3
   },
   "file_extension": ".py",
   "mimetype": "text/x-python",
   "name": "python",
   "nbconvert_exporter": "python",
   "pygments_lexer": "ipython3",
   "version": "3.12.3"
  }
 },
 "nbformat": 4,
 "nbformat_minor": 2
}
