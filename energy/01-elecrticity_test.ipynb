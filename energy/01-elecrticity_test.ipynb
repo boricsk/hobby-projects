{
 "cells": [
  {
   "cell_type": "code",
   "execution_count": 1,
   "metadata": {},
   "outputs": [
    {
     "data": {
      "text/plain": [
       "True"
      ]
     },
     "execution_count": 1,
     "metadata": {},
     "output_type": "execute_result"
    }
   ],
   "source": [
    "import json\n",
    "import os\n",
    "import pandas as pd\n",
    "import requests\n",
    "from datetime import datetime as dt\n",
    "from dateutil.relativedelta import relativedelta\n",
    "from dotenv import load_dotenv\n",
    "pd.set_option('display.max_columns', 50)\n",
    "load_dotenv()"
   ]
  },
  {
   "cell_type": "code",
   "execution_count": 5,
   "metadata": {},
   "outputs": [],
   "source": [
    "api_key = os.getenv('ELECTRICITYMAPS_API')\n",
    "endpoint = 'https://api.electricitymap.org/v3/carbon-intensity/latest?zone=DE'\n",
    "header = {'auth-token': api_key}"
   ]
  },
  {
   "cell_type": "code",
   "execution_count": 6,
   "metadata": {},
   "outputs": [],
   "source": [
    "response = requests.get(endpoint, header)\n",
    "data = response.json()"
   ]
  },
  {
   "cell_type": "code",
   "execution_count": 7,
   "metadata": {},
   "outputs": [
    {
     "data": {
      "text/plain": [
       "{'zone': 'DE',\n",
       " 'carbonIntensity': 159,\n",
       " 'datetime': '2024-05-18T11:00:00.000Z',\n",
       " 'updatedAt': '2024-05-18T11:48:23.717Z',\n",
       " 'createdAt': '2024-05-15T11:47:17.994Z',\n",
       " 'emissionFactorType': 'lifecycle',\n",
       " 'isEstimated': True,\n",
       " 'estimationMethod': 'FORECASTS_HIERARCHY'}"
      ]
     },
     "execution_count": 7,
     "metadata": {},
     "output_type": "execute_result"
    }
   ],
   "source": [
    "data"
   ]
  }
 ],
 "metadata": {
  "kernelspec": {
   "display_name": "Python 3",
   "language": "python",
   "name": "python3"
  },
  "language_info": {
   "codemirror_mode": {
    "name": "ipython",
    "version": 3
   },
   "file_extension": ".py",
   "mimetype": "text/x-python",
   "name": "python",
   "nbconvert_exporter": "python",
   "pygments_lexer": "ipython3",
   "version": "3.12.3"
  }
 },
 "nbformat": 4,
 "nbformat_minor": 2
}
