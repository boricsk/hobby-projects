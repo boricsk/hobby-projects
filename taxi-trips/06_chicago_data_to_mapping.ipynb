{
 "cells": [
  {
   "cell_type": "code",
   "execution_count": null,
   "metadata": {},
   "outputs": [],
   "source": [
    "#Ellenőrizzuk mi van a taxis adatbázisban\n",
    "#Exploratory Data Analysis (Feltáró adatelemzés)\n",
    "#CTRL nyomva tartva -> GoToDefinition\n",
    "import pandas as pd\n",
    "import requests\n",
    "import os\n",
    "from dateutil.relativedelta import relativedelta\n",
    "from datetime import datetime as dt\n",
    "\n",
    "pd.set_option('display.max_columns',30)\n",
    "\n",
    "data_out = r'../data/'\n"
   ]
  },
  {
   "cell_type": "code",
   "execution_count": null,
   "metadata": {},
   "outputs": [],
   "source": [
    "api_token = os.environ.get('CHICAGO_API_TOKEN')\n",
    "headers = {\"X-App-Token\": api_token}\n",
    "\n",
    "endDate = dt.now().strftime(\"%Y-%m-%d\")\n",
    "startDate = (dt.now() - relativedelta(months=2)).strftime(\"%Y-%m-%d\")\n",
    "\n",
    "\n",
    "#startDate = dt(2023,9,8).strftime(\"%Y-%m-%d\")\n",
    "\n",
    "#url = f\"https://data.cityofchicago.org/resource/wrvz-psew.json?$where=trip_start_timestamp >= '{startDate}T00:00:00' AND trip_start_timestamp <= '{startDate}T23:59:59'&$limit=30000&$$app_token={api_token}\"\n",
    "#url = f\"https://data.cityofchicago.org/resource/wrvz-psew.json?$where=trip_start_timestamp >= '{startDate}T00:00:00' AND trip_start_timestamp <= '{startDate}T23:59:59'&$limit=30000\"\n",
    "\n",
    "url_old = f\"https://data.cityofchicago.org/resource/wrvz-psew.json?$limit=213000000\"\n",
    "url_new = f\"https://data.cityofchicago.org/resource/ajtu-isnz.json?$limit=213000000\"\n",
    "\n",
    "params = f\"$where=trip_start_timestamp >= '{startDate}T00:00:00' AND trip_start_timestamp <= '{endDate}T23:59:59'&$limit=30000\" # ? nem kell, ha így adod meg\n",
    "response_old = requests.get(url_old)\n",
    "response_new = requests.get(url_new)\n",
    "data_old = response_old.json()\n",
    "data_new = response_new.json()\n",
    "response_old, response_new"
   ]
  },
  {
   "cell_type": "code",
   "execution_count": null,
   "metadata": {},
   "outputs": [],
   "source": [
    "len(data_new)\n",
    "data_new_df = pd.DataFrame(data_new)\n",
    "data_old_df = pd.DataFrame(data_old)\n"
   ]
  },
  {
   "cell_type": "code",
   "execution_count": null,
   "metadata": {},
   "outputs": [],
   "source": [
    "data_new_df.head(5)"
   ]
  },
  {
   "cell_type": "code",
   "execution_count": null,
   "metadata": {},
   "outputs": [],
   "source": [
    "data_old_df.tail(5)"
   ]
  },
  {
   "cell_type": "code",
   "execution_count": null,
   "metadata": {},
   "outputs": [],
   "source": [
    "https://data.cityofchicago.org/resource/ajtu-isnz.json\n",
    "https://data.cityofchicago.org/resource/wrvz-psew.json"
   ]
  },
  {
   "cell_type": "code",
   "execution_count": null,
   "metadata": {},
   "outputs": [],
   "source": [
    "#Ezzel lehet megnézni, hogy mi a tipusa egy vátozónak, vagy egy obj hova tartozik\n",
    "#type(response)\n",
    "data_new_df.info()"
   ]
  },
  {
   "cell_type": "code",
   "execution_count": null,
   "metadata": {},
   "outputs": [],
   "source": [
    "len(data)"
   ]
  },
  {
   "cell_type": "code",
   "execution_count": null,
   "metadata": {},
   "outputs": [],
   "source": [
    "taxi_trips = pd.concat([data_old_df,data_new_df], ignore_index=True)\n"
   ]
  },
  {
   "cell_type": "code",
   "execution_count": null,
   "metadata": {},
   "outputs": [],
   "source": [
    "taxi_trips.info()\n",
    "#Itt lehet azokat az oszlopokat kiszűrni, ahol null van.\n",
    "#Ellenőrizni a duplikációt, mint pl a koordinátáknál"
   ]
  },
  {
   "cell_type": "code",
   "execution_count": null,
   "metadata": {},
   "outputs": [],
   "source": [
    "taxi_trips.describe()\n",
    "#A mapping táblák létrehozásához segítség. Ha sok kis unique érték van, akkor célszerű mapping táblát csinálni, hogy ne foglaljon annyi helyet."
   ]
  },
  {
   "cell_type": "code",
   "execution_count": null,
   "metadata": {},
   "outputs": [],
   "source": [
    "taxi_trips[taxi_trips['fare'].isna()].sample(5)\n",
    "#Itt a nem érvényes adatokat lehet ignorálni."
   ]
  },
  {
   "cell_type": "markdown",
   "metadata": {},
   "source": [
    "Transformations : deal with NaN values"
   ]
  },
  {
   "cell_type": "code",
   "execution_count": null,
   "metadata": {},
   "outputs": [],
   "source": [
    "taxi_trips.drop(['pickup_census_tract', 'dropoff_census_tract'], axis=1, inplace=True)\n",
    "#mert a fele üres"
   ]
  },
  {
   "cell_type": "code",
   "execution_count": null,
   "metadata": {},
   "outputs": [],
   "source": [
    "taxi_trips.info()"
   ]
  },
  {
   "cell_type": "code",
   "execution_count": null,
   "metadata": {},
   "outputs": [],
   "source": [
    "#Koordináták duplikációja miatt\n",
    "taxi_trips.drop(['pickup_centroid_location', 'dropoff_centroid_location'], axis=1, inplace=True)"
   ]
  },
  {
   "cell_type": "code",
   "execution_count": null,
   "metadata": {},
   "outputs": [],
   "source": [
    "taxi_trips.info()"
   ]
  },
  {
   "cell_type": "markdown",
   "metadata": {},
   "source": [
    "Transformation : renaming community area colunms"
   ]
  },
  {
   "cell_type": "code",
   "execution_count": null,
   "metadata": {},
   "outputs": [],
   "source": [
    "taxi_trips.rename(columns={'pickup_community_area' : 'pickup_community_area_id',\n",
    "                           'dropoff_community_area' : 'dropoff_community_area_id'\n",
    "                           },inplace=True)"
   ]
  },
  {
   "cell_type": "code",
   "execution_count": null,
   "metadata": {},
   "outputs": [],
   "source": [
    "taxi_trips.columns"
   ]
  },
  {
   "cell_type": "markdown",
   "metadata": {},
   "source": [
    "Transformation : Create helper col for weather"
   ]
  },
  {
   "cell_type": "code",
   "execution_count": null,
   "metadata": {},
   "outputs": [],
   "source": [
    "taxi_trips['trip_start_timestamp'] = pd.to_datetime(taxi_trips['trip_start_timestamp'])\n",
    "taxi_trips['datetime_for_weather'] = taxi_trips['trip_start_timestamp'].dt.floor('H')"
   ]
  },
  {
   "cell_type": "code",
   "execution_count": null,
   "metadata": {},
   "outputs": [],
   "source": [
    "taxi_trips['datetime_for_weather']"
   ]
  },
  {
   "cell_type": "markdown",
   "metadata": {},
   "source": [
    "Transformations : check joining trips to weather"
   ]
  },
  {
   "cell_type": "code",
   "execution_count": null,
   "metadata": {},
   "outputs": [],
   "source": [
    "#Get weather data\n",
    "url = f\"https://archive-api.open-meteo.com/v1/era5\"\n",
    "startDate = '2023-09-08'\n",
    "params = {\n",
    "    \"latitude\" : 41.85,\n",
    "    \"longitude\" : -87.65,\n",
    "    \"start_date\" : startDate,\n",
    "    \"end_date\" : startDate,\n",
    "    \"hourly\" : \"temperature_2m,wind_speed_10m,precipitation,rain\"\n",
    "}\n",
    "\n",
    "\n",
    "response = requests.get(url, params=params)\n",
    "weather_data = response.json()\n",
    "\n",
    "weather_filtered = {\n",
    "    'datetime': weather_data['hourly']['time'],\n",
    "    'temperature' : weather_data['hourly']['temperature_2m'],\n",
    "    'wind' : weather_data['hourly']['wind_speed_10m'],\n",
    "    'precipitation' : weather_data['hourly']['precipitation'],\n",
    "    'rain' : weather_data['hourly']['rain']\n",
    "}\n",
    "weather_df = pd.DataFrame(weather_filtered)\n",
    "weather_df['datetime'] = pd.to_datetime(weather_df['datetime'])\n",
    "\n",
    "\n"
   ]
  },
  {
   "cell_type": "code",
   "execution_count": null,
   "metadata": {},
   "outputs": [],
   "source": [
    "weather_df.head()"
   ]
  },
  {
   "cell_type": "code",
   "execution_count": null,
   "metadata": {},
   "outputs": [],
   "source": [
    "#Merging\n",
    "taxi_trips_with_weather = taxi_trips.merge(weather_df, left_on='datetime_for_weather', right_on='datetime')\n",
    "taxi_trips_with_weather.drop(['datetime_for_weather', 'datetime'], axis=1, inplace=True)\n",
    "taxi_trips_with_weather.head()"
   ]
  },
  {
   "cell_type": "markdown",
   "metadata": {},
   "source": [
    "Transformation : data type conversions"
   ]
  },
  {
   "cell_type": "code",
   "execution_count": null,
   "metadata": {},
   "outputs": [],
   "source": [
    "taxi_trips_with_weather.head(1)"
   ]
  },
  {
   "cell_type": "code",
   "execution_count": null,
   "metadata": {},
   "outputs": [],
   "source": [
    "#Az AWS nem a df-ből, hanem a csv-ből fog dolgozni. A memória használatot is lehet a megfelelő típus konvertálásokkal csökkenteni.\n",
    "taxi_trips_with_weather.info()"
   ]
  },
  {
   "cell_type": "code",
   "execution_count": null,
   "metadata": {},
   "outputs": [],
   "source": [
    "taxi_trips_with_weather.dropna(inplace=True)\n",
    "\n",
    "data_types = {\n",
    "    'trip_end_timestamp' : 'datetime64[ns]',\n",
    "    'trip_seconds': 'int32',\n",
    "    'trip_miles': 'float',\n",
    "    'pickup_community_area_id': 'int8',\n",
    "    'dropoff_community_area_id': 'int8',\n",
    "    'fare': 'float',\n",
    "    'tips': 'float',\n",
    "    'extras': 'float',\n",
    "    'trip_total': 'float',\n",
    "\n",
    "}\n",
    "taxi_trips_with_weather = taxi_trips_with_weather.astype(data_types)"
   ]
  },
  {
   "cell_type": "code",
   "execution_count": null,
   "metadata": {},
   "outputs": [],
   "source": [
    "taxi_trips_with_weather.info()"
   ]
  },
  {
   "cell_type": "markdown",
   "metadata": {},
   "source": [
    "Memory usage"
   ]
  },
  {
   "cell_type": "code",
   "execution_count": null,
   "metadata": {},
   "outputs": [],
   "source": [
    "taxi_trips.memory_usage(deep=True).sum() / 1024"
   ]
  },
  {
   "cell_type": "code",
   "execution_count": null,
   "metadata": {},
   "outputs": [],
   "source": [
    "taxi_trips_with_weather.memory_usage(deep=True).sum() / 1024"
   ]
  },
  {
   "cell_type": "markdown",
   "metadata": {},
   "source": [
    "Sanity checks"
   ]
  },
  {
   "cell_type": "code",
   "execution_count": null,
   "metadata": {},
   "outputs": [],
   "source": [
    "#Megkeresi az értéktartományokat, kiugró értékeket (outliers) "
   ]
  },
  {
   "cell_type": "code",
   "execution_count": null,
   "metadata": {},
   "outputs": [],
   "source": [
    "taxi_trips_with_weather[taxi_trips_with_weather['trip_end_timestamp'] == taxi_trips_with_weather['trip_end_timestamp'].max()]"
   ]
  },
  {
   "cell_type": "code",
   "execution_count": null,
   "metadata": {},
   "outputs": [],
   "source": [
    "taxi_trips_with_weather.nlargest(10, 'fare')"
   ]
  },
  {
   "cell_type": "code",
   "execution_count": null,
   "metadata": {},
   "outputs": [],
   "source": [
    "print(taxi_trips_with_weather.shape)"
   ]
  },
  {
   "cell_type": "markdown",
   "metadata": {},
   "source": [
    "#### Data Modelling"
   ]
  },
  {
   "cell_type": "code",
   "execution_count": null,
   "metadata": {},
   "outputs": [],
   "source": [
    "#Mapping table create\n",
    "taxi_trips_with_weather['payment_type'].unique()"
   ]
  },
  {
   "cell_type": "code",
   "execution_count": null,
   "metadata": {},
   "outputs": [],
   "source": []
  },
  {
   "cell_type": "code",
   "execution_count": null,
   "metadata": {},
   "outputs": [],
   "source": [
    "payment_type_master = taxi_trips_with_weather['payment_type'].drop_duplicates().reset_index(drop=True)"
   ]
  },
  {
   "cell_type": "code",
   "execution_count": null,
   "metadata": {},
   "outputs": [],
   "source": [
    "for i in range(1, len(payment_type_master) + 1):\n",
    "    print(i)"
   ]
  },
  {
   "cell_type": "code",
   "execution_count": null,
   "metadata": {},
   "outputs": [],
   "source": [
    "payment_type_master = pd.DataFrame({\n",
    "    'payment_type_id': range(1, len(payment_type_master) + 1),\n",
    "    'payment_type':  payment_type_master\n",
    "})"
   ]
  },
  {
   "cell_type": "code",
   "execution_count": null,
   "metadata": {},
   "outputs": [],
   "source": [
    "payment_type_master"
   ]
  },
  {
   "cell_type": "code",
   "execution_count": null,
   "metadata": {},
   "outputs": [],
   "source": [
    "taxi_trips['company'].unique()"
   ]
  },
  {
   "cell_type": "code",
   "execution_count": null,
   "metadata": {},
   "outputs": [],
   "source": [
    "company_type_master = taxi_trips_with_weather['company'].drop_duplicates().reset_index(drop=True)\n",
    "company_type_master = pd.DataFrame({\n",
    "    'company_id': range(1, len(company_type_master) + 1),\n",
    "    'company':  company_type_master\n",
    "})\n",
    "company_type_master"
   ]
  },
  {
   "cell_type": "code",
   "execution_count": null,
   "metadata": {},
   "outputs": [],
   "source": [
    "taxi_trips_with_weather[['payment_type', 'company']]"
   ]
  },
  {
   "cell_type": "code",
   "execution_count": null,
   "metadata": {},
   "outputs": [],
   "source": [
    "taxi_trips_with_weather.memory_usage(deep=True).sum() / 1024"
   ]
  },
  {
   "cell_type": "code",
   "execution_count": null,
   "metadata": {},
   "outputs": [],
   "source": [
    "taxi_trips_with_weather_id = taxi_trips_with_weather.merge(payment_type_master, on='payment_type')\n",
    "\n",
    "taxi_trips_with_weather_id = taxi_trips_with_weather_id.merge(company_type_master, on='company')"
   ]
  },
  {
   "cell_type": "code",
   "execution_count": null,
   "metadata": {},
   "outputs": [],
   "source": [
    "taxi_trips_with_weather_id.sample(5)"
   ]
  },
  {
   "cell_type": "code",
   "execution_count": null,
   "metadata": {},
   "outputs": [],
   "source": [
    "taxi_trips_with_weather_id.drop(['payment_type', 'company'], axis=1, inplace=True)"
   ]
  },
  {
   "cell_type": "code",
   "execution_count": null,
   "metadata": {},
   "outputs": [],
   "source": [
    "taxi_trips_with_weather_id.memory_usage(deep=True).sum() / 1024"
   ]
  },
  {
   "cell_type": "code",
   "execution_count": null,
   "metadata": {},
   "outputs": [],
   "source": [
    "payment_type_master.to_csv(data_out+'payment_type_master.csv', index=False)\n",
    "company_type_master.to_csv(data_out+'company_master.csv', index=False)\n"
   ]
  },
  {
   "cell_type": "markdown",
   "metadata": {},
   "source": [
    "#### Checking the modelling"
   ]
  },
  {
   "cell_type": "markdown",
   "metadata": {},
   "source": [
    "#### Payment"
   ]
  },
  {
   "cell_type": "code",
   "execution_count": null,
   "metadata": {},
   "outputs": [],
   "source": [
    "#Ha új payment type van azt frissíteni kell\n",
    "payment_type_master = taxi_trips_with_weather['payment_type'].drop_duplicates().reset_index(drop=True)\n",
    "payment_type_master = pd.DataFrame({\n",
    "    'payment_type_id': range(1, len(payment_type_master) + 1),\n",
    "    'payment_type':  payment_type_master\n",
    "})"
   ]
  },
  {
   "cell_type": "code",
   "execution_count": null,
   "metadata": {},
   "outputs": [],
   "source": [
    "payment_type_master"
   ]
  },
  {
   "cell_type": "code",
   "execution_count": null,
   "metadata": {},
   "outputs": [],
   "source": [
    "#Kézzel megcsináljuk a meglévő típusokra a df-et\n",
    "#Most azt szimuláljuk, hogy van 2 új típus\n",
    "new_payment_type_data = [\n",
    "    {'payment_type': 'Credit Card'},\n",
    "    {'payment_type': 'X'},\n",
    "    {'payment_type': 'Y'},\n",
    "]\n",
    "\n",
    "#Mapping\n",
    "\n",
    "new_payment_type_mapping = pd.DataFrame(new_payment_type_data)"
   ]
  },
  {
   "cell_type": "code",
   "execution_count": null,
   "metadata": {},
   "outputs": [],
   "source": [
    "new_payment_type_mapping"
   ]
  },
  {
   "cell_type": "code",
   "execution_count": null,
   "metadata": {},
   "outputs": [],
   "source": [
    "#Megnézzük, hogy a payment type masterben melyik a max index.\n",
    "payment_type_max_id = payment_type_master['payment_type_id'].max()"
   ]
  },
  {
   "cell_type": "code",
   "execution_count": null,
   "metadata": {},
   "outputs": [],
   "source": [
    "#Hogyan lehet bővíteni a meglévő payment type-okat újakkal?\n",
    "#Készítünk az indexnek egy sorozatot, ami a meglévő max értéktől indúl\n",
    "#a new payment type hossza + payment type max id-ig\n",
    "range(payment_type_max_id + 1, payment_type_max_id + len(new_payment_type_mapping)+1)"
   ]
  },
  {
   "cell_type": "code",
   "execution_count": null,
   "metadata": {},
   "outputs": [],
   "source": [
    "#A mapping táblában új oszlop az id-nak\n",
    "new_payment_type_mapping['payment_type_id'] = range(payment_type_max_id + 1, payment_type_max_id + len(new_payment_type_mapping)+1)"
   ]
  },
  {
   "cell_type": "code",
   "execution_count": null,
   "metadata": {},
   "outputs": [],
   "source": [
    "new_payment_type_mapping"
   ]
  },
  {
   "cell_type": "code",
   "execution_count": null,
   "metadata": {},
   "outputs": [],
   "source": [
    "#Ellenőrtés, hogy van-e az eredetiban\n",
    "new_payment_type_mapping['payment_type'].isin(payment_type_master['payment_type'])"
   ]
  },
  {
   "cell_type": "code",
   "execution_count": null,
   "metadata": {},
   "outputs": [],
   "source": [
    "#Szűrjük le a mappinget a False-okra\n",
    "new_payment_type_mapping[~new_payment_type_mapping['payment_type'].isin(payment_type_master['payment_type'])]\n"
   ]
  },
  {
   "cell_type": "code",
   "execution_count": null,
   "metadata": {},
   "outputs": [],
   "source": [
    "new_payment_types = new_payment_type_mapping[~new_payment_type_mapping['payment_type'].isin(payment_type_master['payment_type'])]\n"
   ]
  },
  {
   "cell_type": "code",
   "execution_count": null,
   "metadata": {},
   "outputs": [],
   "source": [
    "if not new_payment_types.empty:\n",
    "    payment_type_master = pd.concat([payment_type_master, new_payment_types],ignore_index=True )"
   ]
  },
  {
   "cell_type": "code",
   "execution_count": null,
   "metadata": {},
   "outputs": [],
   "source": [
    "payment_type_master"
   ]
  },
  {
   "cell_type": "markdown",
   "metadata": {},
   "source": [
    "#### Company data"
   ]
  },
  {
   "cell_type": "code",
   "execution_count": null,
   "metadata": {},
   "outputs": [],
   "source": [
    "company_master = taxi_trips_with_weather['company'].drop_duplicates().reset_index(drop=True)\n",
    "company_master = pd.DataFrame({\n",
    "    'company_id': range(1, len(company_master) + 1),\n",
    "    'company':  company_master\n",
    "})"
   ]
  },
  {
   "cell_type": "code",
   "execution_count": null,
   "metadata": {},
   "outputs": [],
   "source": [
    "company_master.tail()"
   ]
  },
  {
   "cell_type": "code",
   "execution_count": null,
   "metadata": {},
   "outputs": [],
   "source": [
    "company_master.info()"
   ]
  },
  {
   "cell_type": "code",
   "execution_count": null,
   "metadata": {},
   "outputs": [],
   "source": [
    "new_company_data = [\n",
    "    {'company': 'Petani Cab Corp'},\n",
    "    {'company': 'X'},\n",
    "    {'company': 'Y'},\n",
    "]\n",
    "\n",
    "#Mapping\n",
    "\n",
    "new_company_mapping = pd.DataFrame(new_company_data)"
   ]
  },
  {
   "cell_type": "code",
   "execution_count": null,
   "metadata": {},
   "outputs": [],
   "source": [
    "new_company_mapping"
   ]
  },
  {
   "cell_type": "code",
   "execution_count": null,
   "metadata": {},
   "outputs": [],
   "source": [
    "company_max_id = company_master['company_id'].max()\n",
    "new_company_mapping['company_id'] = range(company_max_id + 1, company_max_id + len(new_company_mapping)+1)"
   ]
  },
  {
   "cell_type": "code",
   "execution_count": null,
   "metadata": {},
   "outputs": [],
   "source": [
    "new_company_mapping"
   ]
  },
  {
   "cell_type": "code",
   "execution_count": null,
   "metadata": {},
   "outputs": [],
   "source": [
    "#Ellenőrtés, hogy van-e az eredetiban\n",
    "new_company_mapping['company'].isin(company_master['company'])"
   ]
  },
  {
   "cell_type": "code",
   "execution_count": null,
   "metadata": {},
   "outputs": [],
   "source": [
    "#Szűrjük le a mappinget a False-okra\n",
    "new_company_mapping[~new_company_mapping['company'].isin(company_master['company'])]"
   ]
  },
  {
   "cell_type": "code",
   "execution_count": null,
   "metadata": {},
   "outputs": [],
   "source": [
    "new_company = new_company_mapping[~new_company_mapping['company'].isin(company_master['company'])]\n",
    "\n",
    "if not new_company.empty:\n",
    "    company_master = pd.concat([company_master,new_company],ignore_index=True )"
   ]
  },
  {
   "cell_type": "code",
   "execution_count": null,
   "metadata": {},
   "outputs": [],
   "source": [
    "company_master.tail()"
   ]
  }
 ],
 "metadata": {
  "kernelspec": {
   "display_name": ".venv",
   "language": "python",
   "name": "python3"
  },
  "language_info": {
   "codemirror_mode": {
    "name": "ipython",
    "version": 3
   },
   "file_extension": ".py",
   "mimetype": "text/x-python",
   "name": "python",
   "nbconvert_exporter": "python",
   "pygments_lexer": "ipython3",
   "version": "3.11.7"
  }
 },
 "nbformat": 4,
 "nbformat_minor": 2
}
