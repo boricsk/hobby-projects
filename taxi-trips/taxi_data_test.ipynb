{
 "cells": [
  {
   "cell_type": "code",
   "execution_count": 3,
   "metadata": {},
   "outputs": [],
   "source": [
    "import pandas as pd\n",
    "import requests\n",
    "import os\n",
    "from dateutil.relativedelta import relativedelta\n",
    "from datetime import datetime as dt\n",
    "from typing import Dict\n",
    "\n",
    "pd.set_option('display.max_columns',30)\n",
    "\n",
    "data_out = r'../data/'"
   ]
  },
  {
   "cell_type": "code",
   "execution_count": 2,
   "metadata": {},
   "outputs": [],
   "source": [
    "def get_taxi_data(workingDateStart: str, workingDateEnd: str) -> Dict:\n",
    "    \"\"\"\n",
    "    Retrieces taxi data for the given date.\n",
    "    Parameters:\n",
    "        workingDateStart (str) : Start date in 'YYYY-MM-DD' format.\n",
    "        workingDateEnd (str) : End date in 'YYYY-MM-DD' format.\n",
    "    \n",
    "    Return:\n",
    "        Dict: A dictionary containing taxi data as JSON\n",
    "    \"\"\"\n",
    "    \n",
    "    url_new = f\"https://data.cityofchicago.org/resource/ajtu-isnz.json?$where=trip_start_timestamp >= '{workingDateStart}T00:00:00' AND trip_start_timestamp <= '{workingDateEnd}T23:59:59'&$limit=213000000\"\n",
    "    response_taxi = requests.get(url_new)\n",
    "    taxi_data = response_taxi.json()\n",
    "    return taxi_data"
   ]
  },
  {
   "cell_type": "code",
   "execution_count": 3,
   "metadata": {},
   "outputs": [],
   "source": [
    "def get_weather_data(weather_start_date: str, weather_end_date: str) -> Dict:\n",
    "    \"\"\"\n",
    "    Retrieves weather data from the Open Meteo API for a specified location and time period.\n",
    "\n",
    "    Args:\n",
    "        weather_start_date (str): The start date for the weather data in 'YYYY-MM-DD' format.\n",
    "        weather_end_date (str): The end date for the weather data in 'YYYY-MM-DD' format.\n",
    "\n",
    "    Returns:\n",
    "        Dict: A dictionary containing weather data for the specified time period and location.\n",
    "\n",
    "    Example:\n",
    "        >>> data = get_weather_data('2024-05-01', '2024-05-05')\n",
    "    \"\"\"\n",
    "    weather_url = f\"https://archive-api.open-meteo.com/v1/era5\"\n",
    "    params = {\n",
    "        \"latitude\" : 41.85,\n",
    "        \"longitude\" : -87.65,\n",
    "        \"start_date\" : weather_start_date,\n",
    "        \"end_date\" : weather_end_date,\n",
    "        \"hourly\" : \"temperature_2m,wind_speed_10m,precipitation,rain\"\n",
    "    }\n",
    "    response = requests.get(weather_url, params=params)\n",
    "    weather_data = response.json()\n",
    "    return weather_data"
   ]
  },
  {
   "cell_type": "code",
   "execution_count": 4,
   "metadata": {},
   "outputs": [],
   "source": [
    "def get_minmax_timestamp(taxi_data: Dict) -> Dict:\n",
    "    \"\"\"\n",
    "    Calculates the minimum and maximum timestamps from a list of taxi data.\n",
    "\n",
    "    Args:\n",
    "        taxi_data (Dict): A list of dictionaries containing taxi data. Each dictionary\n",
    "            should have a 'trip_start_timestamp' key containing a timestamp in ISO format.\n",
    "\n",
    "    Returns:\n",
    "        Dict: A dictionary containing the minimum and maximum timestamps found in the\n",
    "            'trip_start_timestamp' field of the input data. The timestamps are formatted\n",
    "            as strings in the format 'YYYY-MM-DD' and returned under the keys 'start'\n",
    "            and 'end' respectively.\n",
    "    \"\"\"\n",
    "    start_date = dt.fromisoformat(taxi_data[0]['trip_start_timestamp'])\n",
    "    end_date = dt.fromisoformat(taxi_data[0]['trip_start_timestamp'])\n",
    "    \n",
    "    for item in taxi_data:\n",
    "        timestamp = dt.fromisoformat(item['trip_start_timestamp'])\n",
    "        \n",
    "        if timestamp < start_date:\n",
    "            start_date = timestamp\n",
    "        elif timestamp > end_date:\n",
    "            end_date = timestamp\n",
    "\n",
    "    start_date = start_date.strftime(\"%Y-%m-%d\")\n",
    "    end_date = end_date.strftime(\"%Y-%m-%d\")\n",
    "    return {\"start\": start_date, \"end\": end_date}"
   ]
  },
  {
   "cell_type": "code",
   "execution_count": 5,
   "metadata": {},
   "outputs": [],
   "source": [
    "endDate = dt.now().strftime(\"%Y-%m-%d\")\n",
    "startDate = (dt.now() - relativedelta(months=1)).strftime(\"%Y-%m-%d\")\n",
    "\n",
    "workingDateStart = (dt.now() - relativedelta(months=2))\n",
    "workingDateEnd = (workingDateStart + relativedelta(days=1)).strftime(\"%Y-%m-%d\")\n",
    "workingDateStart = workingDateStart.strftime(\"%Y-%m-%d\")\n",
    "\n",
    "weather_bucket_key = f'raw-data/to-process/weather-data/weather_raw{workingDateStart}.json'\n",
    "taxi_bucket_key = f\"raw-data/to-process/taxi-data/taxi_raw{workingDateStart}.json\"\n",
    "bucket_name = 'chicago-taxi'\n",
    "\n",
    "taxi_data_api_call = get_taxi_data(workingDateStart, workingDateEnd)\n",
    "taxi_df = pd.DataFrame(taxi_data_api_call)\n",
    "\n",
    "#determine weather start and end date\n",
    "\n",
    "weather_data_api_call = get_weather_data(\n",
    "    get_minmax_timestamp(taxi_data_api_call)['start'],\n",
    "    get_minmax_timestamp(taxi_data_api_call)['end']\n",
    ")\n",
    "\n",
    "weather_filtered = {\n",
    "    'datetime': weather_data_api_call['hourly']['time'],\n",
    "    'temperature' : weather_data_api_call['hourly']['temperature_2m'],\n",
    "    'wind' : weather_data_api_call['hourly']['wind_speed_10m'],\n",
    "    'precipitation' : weather_data_api_call['hourly']['precipitation'],\n",
    "    'rain' : weather_data_api_call['hourly']['rain']\n",
    "}\n",
    "\n",
    "weather_df = pd.DataFrame(weather_filtered)\n"
   ]
  },
  {
   "cell_type": "code",
   "execution_count": 7,
   "metadata": {},
   "outputs": [
    {
     "data": {
      "text/plain": [
       "'2024-03-06T23:00'"
      ]
     },
     "execution_count": 7,
     "metadata": {},
     "output_type": "execute_result"
    }
   ],
   "source": [
    "weather_df['datetime'].max()"
   ]
  },
  {
   "cell_type": "code",
   "execution_count": 5,
   "metadata": {},
   "outputs": [
    {
     "ename": "ModuleNotFoundError",
     "evalue": "No module named 'openai'",
     "output_type": "error",
     "traceback": [
      "\u001b[1;31m---------------------------------------------------------------------------\u001b[0m",
      "\u001b[1;31mModuleNotFoundError\u001b[0m                       Traceback (most recent call last)",
      "Cell \u001b[1;32mIn[5], line 1\u001b[0m\n\u001b[1;32m----> 1\u001b[0m \u001b[38;5;28;01mfrom\u001b[39;00m \u001b[38;5;21;01mopenai\u001b[39;00m \u001b[38;5;28;01mimport\u001b[39;00m OpenAI\n",
      "\u001b[1;31mModuleNotFoundError\u001b[0m: No module named 'openai'"
     ]
    }
   ],
   "source": [
    "from openai import OpenAI"
   ]
  },
  {
   "cell_type": "code",
   "execution_count": 1,
   "metadata": {},
   "outputs": [
    {
     "ename": "ModuleNotFoundError",
     "evalue": "No module named 'openai'",
     "output_type": "error",
     "traceback": [
      "\u001b[1;31m---------------------------------------------------------------------------\u001b[0m",
      "\u001b[1;31mModuleNotFoundError\u001b[0m                       Traceback (most recent call last)",
      "Cell \u001b[1;32mIn[1], line 1\u001b[0m\n\u001b[1;32m----> 1\u001b[0m \u001b[38;5;28;01mfrom\u001b[39;00m \u001b[38;5;21;01mopenai\u001b[39;00m \u001b[38;5;28;01mimport\u001b[39;00m OpenAI\n\u001b[0;32m      2\u001b[0m client \u001b[38;5;241m=\u001b[39m OpenAI(\n\u001b[0;32m      3\u001b[0m     organization \u001b[38;5;241m=\u001b[39m os\u001b[38;5;241m.\u001b[39menviron\u001b[38;5;241m.\u001b[39mget(OPEN_AI_ORGANIZATION_ID)\n\u001b[0;32m      4\u001b[0m )\n\u001b[0;32m      6\u001b[0m response \u001b[38;5;241m=\u001b[39m client\u001b[38;5;241m.\u001b[39mchat\u001b[38;5;241m.\u001b[39mcompletions\u001b[38;5;241m.\u001b[39mcreate(\n\u001b[0;32m      7\u001b[0m   model\u001b[38;5;241m=\u001b[39m\u001b[38;5;124m\"\u001b[39m\u001b[38;5;124mgpt-3.5-turbo\u001b[39m\u001b[38;5;124m\"\u001b[39m,\n\u001b[0;32m      8\u001b[0m   messages\u001b[38;5;241m=\u001b[39m[\n\u001b[1;32m   (...)\u001b[0m\n\u001b[0;32m     13\u001b[0m   ]\n\u001b[0;32m     14\u001b[0m )\n",
      "\u001b[1;31mModuleNotFoundError\u001b[0m: No module named 'openai'"
     ]
    }
   ],
   "source": []
  },
  {
   "cell_type": "code",
   "execution_count": null,
   "metadata": {},
   "outputs": [],
   "source": []
  }
 ],
 "metadata": {
  "kernelspec": {
   "display_name": "base",
   "language": "python",
   "name": "python3"
  },
  "language_info": {
   "codemirror_mode": {
    "name": "ipython",
    "version": 3
   },
   "file_extension": ".py",
   "mimetype": "text/x-python",
   "name": "python",
   "nbconvert_exporter": "python",
   "pygments_lexer": "ipython3",
   "version": "3.11.7"
  }
 },
 "nbformat": 4,
 "nbformat_minor": 2
}
