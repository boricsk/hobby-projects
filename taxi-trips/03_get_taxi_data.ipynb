{
 "cells": [
  {
   "cell_type": "code",
   "execution_count": 1,
   "metadata": {},
   "outputs": [],
   "source": [
    "import json\n",
    "import os\n",
    "import pandas as pd\n",
    "import requests\n",
    "from datetime import datetime as dt\n",
    "from dateutil.relativedelta import relativedelta"
   ]
  },
  {
   "cell_type": "code",
   "execution_count": 2,
   "metadata": {},
   "outputs": [],
   "source": [
    "#Ez csak 1 utazást ad vissza\n",
    "url = 'https://data.cityofchicago.org/resource/wrvz-psew.json?trip_id=00000019ef3c0b419a9e6b1843b83530b79627a4'\n",
    "headers = {\"X-App-Token\": os.environ.get(\"CHICAGO_API_TOKEN\")}\n",
    "response = requests.get(url, headers)\n",
    "data = response.json()"
   ]
  },
  {
   "cell_type": "code",
   "execution_count": 3,
   "metadata": {},
   "outputs": [
    {
     "name": "stdout",
     "output_type": "stream",
     "text": [
      "None\n"
     ]
    }
   ],
   "source": [
    "print(os.environ.get(\"CHICAGO_API_TOKEN\"))"
   ]
  },
  {
   "cell_type": "code",
   "execution_count": 4,
   "metadata": {},
   "outputs": [],
   "source": [
    "headers = {\"X-App-Token\": os.environ.get(\"CHICAGO_API_TOKEN\")}\n",
    "response = requests.get(url, headers)\n",
    "data = response.json()"
   ]
  },
  {
   "cell_type": "code",
   "execution_count": 5,
   "metadata": {},
   "outputs": [
    {
     "data": {
      "text/plain": [
       "{'X-App-Token': None}"
      ]
     },
     "execution_count": 5,
     "metadata": {},
     "output_type": "execute_result"
    }
   ],
   "source": [
    "headers"
   ]
  },
  {
   "cell_type": "code",
   "execution_count": 14,
   "metadata": {},
   "outputs": [],
   "source": [
    "\n",
    "api_token = os.environ.get(\"CHICAGO_API_TOKEN\")\n",
    "url = f'https://data.cityofchicago.org/resource/wrvz-psew.json?trip_id=00000019ef3c0b419a9e6b1843b83530b79627a4&$$app_token={api_token}'\n",
    "response = requests.get(url)\n",
    "data = response.json()\n"
   ]
  },
  {
   "cell_type": "code",
   "execution_count": 15,
   "metadata": {},
   "outputs": [
    {
     "data": {
      "text/plain": [
       "[{'trip_id': '00000019ef3c0b419a9e6b1843b83530b79627a4',\n",
       "  'taxi_id': 'bda916a4fa3043f7e827751d9d8cada1239d574beb206d846e1d7d425b658d56aa23393b6866d3a19f9dca6c32d3a8642f14361c5d58dccebd42e398fee18e94',\n",
       "  'trip_start_timestamp': '2023-12-11T16:15:00.000',\n",
       "  'trip_end_timestamp': '2023-12-11T17:00:00.000',\n",
       "  'trip_seconds': '2572',\n",
       "  'trip_miles': '17.56',\n",
       "  'pickup_census_tract': '17031980000',\n",
       "  'dropoff_census_tract': '17031081700',\n",
       "  'pickup_community_area': '76',\n",
       "  'dropoff_community_area': '8',\n",
       "  'fare': '43.75',\n",
       "  'tips': '12.06',\n",
       "  'tolls': '0',\n",
       "  'extras': '4',\n",
       "  'trip_total': '60.31',\n",
       "  'payment_type': 'Credit Card',\n",
       "  'company': 'Taxicab Insurance Agency Llc',\n",
       "  'pickup_centroid_latitude': '41.97907082',\n",
       "  'pickup_centroid_longitude': '-87.903039661',\n",
       "  'pickup_centroid_location': {'type': 'Point',\n",
       "   'coordinates': [-87.9030396611, 41.9790708201]},\n",
       "  'dropoff_centroid_latitude': '41.892042136',\n",
       "  'dropoff_centroid_longitude': '-87.63186395',\n",
       "  'dropoff_centroid_location': {'type': 'Point',\n",
       "   'coordinates': [-87.6318639497, 41.8920421365]}}]"
      ]
     },
     "execution_count": 15,
     "metadata": {},
     "output_type": "execute_result"
    }
   ],
   "source": [
    "data"
   ]
  },
  {
   "cell_type": "code",
   "execution_count": 30,
   "metadata": {},
   "outputs": [
    {
     "data": {
      "text/plain": [
       "<Response [200]>"
      ]
     },
     "execution_count": 30,
     "metadata": {},
     "output_type": "execute_result"
    }
   ],
   "source": [
    "# Egy napi adat\n",
    "# Az URL-be SoQL-t használ a lekérdezés összeállításához https://dev.socrata.com/docs/queries/\n",
    "url = f\"https://data.cityofchicago.org/resource/wrvz-psew.json?$where=trip_start_timestamp >= '2023-08-05T00:00:00' AND trip_start_timestamp <= '2023-08-05T23:59:59'&$limit=30000&$$app_token={api_token}\"\n",
    "headers = {\"X-App-Token\": os.environ.get(\"CHICAGO_API_TOKEN\")}\n",
    "response = requests.get(url)\n",
    "data = response.json()\n",
    "response"
   ]
  },
  {
   "cell_type": "code",
   "execution_count": 28,
   "metadata": {},
   "outputs": [
    {
     "data": {
      "text/plain": [
       "<Response [200]>"
      ]
     },
     "execution_count": 28,
     "metadata": {},
     "output_type": "execute_result"
    }
   ],
   "source": [
    "url = f\"https://data.cityofchicago.org/resource/wrvz-psew.json?$where=trip_start_timestamp >= '2023-08-05T00:00:00' AND trip_start_timestamp <= '2023-08-05T23:59:59'&$limit=30000&$$app_token={api_token}\"\n",
    "#headers = {\"X-App-Token\": os.environ.get(\"CHICAGO_API_TOKEN\")}\n",
    "response = requests.get(url)\n",
    "data = response.json()\n",
    "response"
   ]
  },
  {
   "cell_type": "code",
   "execution_count": 38,
   "metadata": {},
   "outputs": [
    {
     "data": {
      "text/plain": [
       "<Response [200]>"
      ]
     },
     "execution_count": 38,
     "metadata": {},
     "output_type": "execute_result"
    }
   ],
   "source": [
    "#Mivel nekünk a T-2 hónap kell ezért módosítani kell a dátumot\n",
    "# Egy napi adat\n",
    "# Az URL-be SoQL-t használ a lekérdezés összeállításához https://dev.socrata.com/docs/queries/\n",
    "\n",
    "startDate = dt.now().strftime(\"%Y-%m-%d\")\n",
    "endDate = (dt.now() - relativedelta(months=2)).strftime(\"%Y-%m-%d\")\n",
    "\n",
    "startDate = '2023-09-05'\n",
    "\n",
    "url = f\"https://data.cityofchicago.org/resource/wrvz-psew.json?$where=trip_start_timestamp >= '{startDate}T00:00:00' AND trip_start_timestamp <= '{startDate}T23:59:59'&$limit=30000\"\n",
    "headers = {\"X-App-Token\": os.environ.get(\"CHICAGO_API_TOKEN\")}\n",
    "response = requests.get(url, headers)\n",
    "data = response.json()\n",
    "response"
   ]
  },
  {
   "cell_type": "code",
   "execution_count": null,
   "metadata": {},
   "outputs": [],
   "source": [
    "len(data)"
   ]
  },
  {
   "cell_type": "code",
   "execution_count": null,
   "metadata": {},
   "outputs": [],
   "source": [
    "data"
   ]
  }
 ],
 "metadata": {
  "kernelspec": {
   "display_name": "Python 3",
   "language": "python",
   "name": "python3"
  },
  "language_info": {
   "codemirror_mode": {
    "name": "ipython",
    "version": 3
   },
   "file_extension": ".py",
   "mimetype": "text/x-python",
   "name": "python",
   "nbconvert_exporter": "python",
   "pygments_lexer": "ipython3",
   "version": "3.11.7"
  }
 },
 "nbformat": 4,
 "nbformat_minor": 2
}
