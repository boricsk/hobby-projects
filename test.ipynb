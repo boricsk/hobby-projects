{
 "cells": [
  {
   "cell_type": "markdown",
   "metadata": {},
   "source": [
    "## Borics Krisztian\n",
    "### Data Engineering hobby projects\n",
    "\n",
    "[![N|Solid](https://cldup.com/dTxpPi9lDf.thumb.png)](https://nodesource.com/products/nsolid)<br>\n",
    "[![Build Status](https://travis-ci.org/joemccann/dillinger.svg?branch=master)](https://travis-ci.org/joemccann/dillinger)\n",
    "\n",
    "Dear Visitor!<br>\n",
    "Thank you for visiting my page. You can find here the descriptions of my Data Engineering hobby projects.\n",
    "\n",
    "#### Projects\n",
    "\n",
    "- Taxi trips\n",
    "> This project has been created by based on the taxi trips in Chicago. The data source is the Chicago data center free API.\n",
    "\n",
    "- Electric energy consumption\n",
    "> This project has been created by based on the Electricity free API data. \n"
   ]
  },
  {
   "cell_type": "markdown",
   "metadata": {},
   "source": [
    "## Project description\n",
    "\n",
    "This hobby project aims to create a data extraction system that uses the free Electricity API to retrieve current carbon emissions and energy consumption data. The system updates the data every hour and stores it in the Amazon Web Services (AWS) cloud service after transformation. The data processing and transformation are done in Python, while Power BI is used for data visualization.\n",
    "\n"
   ]
  },
  {
   "cell_type": "markdown",
   "metadata": {},
   "source": [
    "[![Build Status](https://devnullsec.hu/logo_small.svg)]\n",
    "\n",
    "<img src=https://devnullsec.hu/logo_small.svg>"
   ]
  },
  {
   "cell_type": "code",
   "execution_count": null,
   "metadata": {},
   "outputs": [],
   "source": []
  }
 ],
 "metadata": {
  "language_info": {
   "name": "python"
  }
 },
 "nbformat": 4,
 "nbformat_minor": 2
}
