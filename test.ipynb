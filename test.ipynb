{
 "cells": [
  {
   "cell_type": "markdown",
   "metadata": {},
   "source": [
    "## Borics Krisztian\n",
    "### Data Engineering hobby projects\n",
    "\n",
    "[![N|Solid](https://cldup.com/dTxpPi9lDf.thumb.png)](https://nodesource.com/products/nsolid)<br>\n",
    "[![Build Status](https://travis-ci.org/joemccann/dillinger.svg?branch=master)](https://travis-ci.org/joemccann/dillinger)\n",
    "\n",
    "Dear Visitor!<br>\n",
    "Thank you for visiting my page. You can find here the descriptions of my Data Engineering hobby projects.\n",
    "\n",
    "#### Projects\n",
    "\n",
    "- Taxi trips\n",
    "> This project has been created by based on the taxi trips in Chicago. The data source is the Chicago data center free API.\n",
    "\n",
    "- Electric energy consumption\n",
    "> This project has been created by based on the Electricity free API data. \n"
   ]
  },
  {
   "cell_type": "code",
   "execution_count": null,
   "metadata": {},
   "outputs": [],
   "source": []
  }
 ],
 "metadata": {
  "language_info": {
   "name": "python"
  }
 },
 "nbformat": 4,
 "nbformat_minor": 2
}
